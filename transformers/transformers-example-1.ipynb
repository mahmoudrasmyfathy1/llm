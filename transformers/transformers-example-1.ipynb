{
 "cells": [
  {
   "cell_type": "markdown",
   "id": "7072664e",
   "metadata": {
    "papermill": {
     "duration": 0.005417,
     "end_time": "2023-12-20T03:34:58.729634",
     "exception": false,
     "start_time": "2023-12-20T03:34:58.724217",
     "status": "completed"
    },
    "tags": []
   },
   "source": [
    "## Code Refrence : https://github.com/fawazsammani/chatbot-transformer/blob/master/transformer%20chatbot.ipynb"
   ]
  },
  {
   "cell_type": "code",
   "execution_count": 1,
   "id": "9bc1d133",
   "metadata": {
    "_cell_guid": "b1076dfc-b9ad-4769-8c92-a6c4dae69d19",
    "_uuid": "8f2839f25d086af736a60e9eeb907d3b93b6e0e5",
    "execution": {
     "iopub.execute_input": "2023-12-20T03:34:58.741835Z",
     "iopub.status.busy": "2023-12-20T03:34:58.741441Z",
     "iopub.status.idle": "2023-12-20T03:35:01.733588Z",
     "shell.execute_reply": "2023-12-20T03:35:01.732561Z"
    },
    "papermill": {
     "duration": 3.001498,
     "end_time": "2023-12-20T03:35:01.736100",
     "exception": false,
     "start_time": "2023-12-20T03:34:58.734602",
     "status": "completed"
    },
    "tags": []
   },
   "outputs": [],
   "source": [
    "from collections import Counter\n",
    "import json\n",
    "import torch\n",
    "import torch.nn as nn\n",
    "from torch.utils.data import Dataset\n",
    "import torch.utils.data\n",
    "import math\n",
    "import torch.nn.functional as F"
   ]
  },
  {
   "cell_type": "code",
   "execution_count": 2,
   "id": "f66fb46c",
   "metadata": {
    "execution": {
     "iopub.execute_input": "2023-12-20T03:35:01.750642Z",
     "iopub.status.busy": "2023-12-20T03:35:01.749736Z",
     "iopub.status.idle": "2023-12-20T03:35:02.986923Z",
     "shell.execute_reply": "2023-12-20T03:35:02.985641Z"
    },
    "papermill": {
     "duration": 1.247001,
     "end_time": "2023-12-20T03:35:02.989427",
     "exception": false,
     "start_time": "2023-12-20T03:35:01.742426",
     "status": "completed"
    },
    "tags": []
   },
   "outputs": [
    {
     "name": "stdout",
     "output_type": "stream",
     "text": [
      "--2023-12-20 03:35:01--  http://www.cs.cornell.edu/~cristian/data/cornell_movie_dialogs_corpus.zip\r\n",
      "Resolving www.cs.cornell.edu (www.cs.cornell.edu)... 132.236.207.36\r\n",
      "Connecting to www.cs.cornell.edu (www.cs.cornell.edu)|132.236.207.36|:80... connected.\r\n",
      "HTTP request sent, awaiting response... 200 OK\r\n",
      "Length: 9916637 (9.5M) [application/zip]\r\n",
      "Saving to: 'cornell_movie_dialogs_corpus.zip'\r\n",
      "\r\n",
      "cornell_movie_dialo 100%[===================>]   9.46M  14.0MB/s    in 0.7s    \r\n",
      "\r\n",
      "2023-12-20 03:35:02 (14.0 MB/s) - 'cornell_movie_dialogs_corpus.zip' saved [9916637/9916637]\r\n",
      "\r\n"
     ]
    }
   ],
   "source": [
    "!wget http://www.cs.cornell.edu/~cristian/data/cornell_movie_dialogs_corpus.zip"
   ]
  },
  {
   "cell_type": "code",
   "execution_count": 3,
   "id": "85c02523",
   "metadata": {
    "execution": {
     "iopub.execute_input": "2023-12-20T03:35:03.002798Z",
     "iopub.status.busy": "2023-12-20T03:35:03.002392Z",
     "iopub.status.idle": "2023-12-20T03:35:03.309989Z",
     "shell.execute_reply": "2023-12-20T03:35:03.308709Z"
    },
    "papermill": {
     "duration": 0.31742,
     "end_time": "2023-12-20T03:35:03.312493",
     "exception": false,
     "start_time": "2023-12-20T03:35:02.995073",
     "status": "completed"
    },
    "tags": []
   },
   "outputs": [
    {
     "name": "stdout",
     "output_type": "stream",
     "text": [
      "/kaggle/working\r\n"
     ]
    }
   ],
   "source": [
    "!pwd"
   ]
  },
  {
   "cell_type": "code",
   "execution_count": 4,
   "id": "cbc91764",
   "metadata": {
    "execution": {
     "iopub.execute_input": "2023-12-20T03:35:03.326022Z",
     "iopub.status.busy": "2023-12-20T03:35:03.324970Z",
     "iopub.status.idle": "2023-12-20T03:35:03.906765Z",
     "shell.execute_reply": "2023-12-20T03:35:03.905620Z"
    },
    "papermill": {
     "duration": 0.5908,
     "end_time": "2023-12-20T03:35:03.908943",
     "exception": false,
     "start_time": "2023-12-20T03:35:03.318143",
     "status": "completed"
    },
    "tags": []
   },
   "outputs": [
    {
     "name": "stdout",
     "output_type": "stream",
     "text": [
      "Archive:  cornell_movie_dialogs_corpus.zip\r\n",
      "   creating: cornell movie-dialogs corpus/\r\n",
      "  inflating: cornell movie-dialogs corpus/.DS_Store  \r\n",
      "   creating: __MACOSX/\r\n",
      "   creating: __MACOSX/cornell movie-dialogs corpus/\r\n",
      "  inflating: __MACOSX/cornell movie-dialogs corpus/._.DS_Store  \r\n",
      "  inflating: cornell movie-dialogs corpus/chameleons.pdf  \r\n",
      "  inflating: __MACOSX/cornell movie-dialogs corpus/._chameleons.pdf  \r\n",
      "  inflating: cornell movie-dialogs corpus/movie_characters_metadata.txt  \r\n",
      "  inflating: cornell movie-dialogs corpus/movie_conversations.txt  \r\n",
      "  inflating: cornell movie-dialogs corpus/movie_lines.txt  \r\n",
      "  inflating: cornell movie-dialogs corpus/movie_titles_metadata.txt  \r\n",
      "  inflating: cornell movie-dialogs corpus/raw_script_urls.txt  \r\n",
      "  inflating: cornell movie-dialogs corpus/README.txt  \r\n",
      "  inflating: __MACOSX/cornell movie-dialogs corpus/._README.txt  \r\n"
     ]
    }
   ],
   "source": [
    "!unzip -o cornell_movie_dialogs_corpus.zip "
   ]
  },
  {
   "cell_type": "code",
   "execution_count": 5,
   "id": "48625bbd",
   "metadata": {
    "execution": {
     "iopub.execute_input": "2023-12-20T03:35:03.922757Z",
     "iopub.status.busy": "2023-12-20T03:35:03.922123Z",
     "iopub.status.idle": "2023-12-20T03:35:03.926578Z",
     "shell.execute_reply": "2023-12-20T03:35:03.925891Z"
    },
    "papermill": {
     "duration": 0.013368,
     "end_time": "2023-12-20T03:35:03.928320",
     "exception": false,
     "start_time": "2023-12-20T03:35:03.914952",
     "status": "completed"
    },
    "tags": []
   },
   "outputs": [],
   "source": [
    "corpus_movie_conv = 'cornell movie-dialogs corpus/movie_conversations.txt'\n",
    "corpus_movie_lines = 'cornell movie-dialogs corpus/movie_lines.txt'\n",
    "max_len = 25"
   ]
  },
  {
   "cell_type": "code",
   "execution_count": 6,
   "id": "d1c8023b",
   "metadata": {
    "execution": {
     "iopub.execute_input": "2023-12-20T03:35:03.942686Z",
     "iopub.status.busy": "2023-12-20T03:35:03.942290Z",
     "iopub.status.idle": "2023-12-20T03:35:03.965507Z",
     "shell.execute_reply": "2023-12-20T03:35:03.963733Z"
    },
    "papermill": {
     "duration": 0.033867,
     "end_time": "2023-12-20T03:35:03.967993",
     "exception": false,
     "start_time": "2023-12-20T03:35:03.934126",
     "status": "completed"
    },
    "tags": []
   },
   "outputs": [],
   "source": [
    "with open(corpus_movie_conv, 'r') as c:\n",
    "    conv = c.readlines()"
   ]
  },
  {
   "cell_type": "code",
   "execution_count": 7,
   "id": "6563402f",
   "metadata": {
    "execution": {
     "iopub.execute_input": "2023-12-20T03:35:03.981496Z",
     "iopub.status.busy": "2023-12-20T03:35:03.980633Z",
     "iopub.status.idle": "2023-12-20T03:35:04.036086Z",
     "shell.execute_reply": "2023-12-20T03:35:04.035307Z"
    },
    "papermill": {
     "duration": 0.064568,
     "end_time": "2023-12-20T03:35:04.038332",
     "exception": false,
     "start_time": "2023-12-20T03:35:03.973764",
     "status": "completed"
    },
    "tags": []
   },
   "outputs": [],
   "source": [
    "with open(corpus_movie_lines, 'r',encoding='iso-8859-1') as l:\n",
    "    lines = l.readlines()\n"
   ]
  },
  {
   "cell_type": "code",
   "execution_count": 8,
   "id": "d337c563",
   "metadata": {
    "execution": {
     "iopub.execute_input": "2023-12-20T03:35:04.051416Z",
     "iopub.status.busy": "2023-12-20T03:35:04.050866Z",
     "iopub.status.idle": "2023-12-20T03:35:04.274294Z",
     "shell.execute_reply": "2023-12-20T03:35:04.273292Z"
    },
    "papermill": {
     "duration": 0.232447,
     "end_time": "2023-12-20T03:35:04.276747",
     "exception": false,
     "start_time": "2023-12-20T03:35:04.044300",
     "status": "completed"
    },
    "tags": []
   },
   "outputs": [],
   "source": [
    "lines_dic = {}\n",
    "for line in lines:\n",
    "    objects = line.split(\" +++$+++ \")\n",
    "    lines_dic[objects[0]] = objects[-1]"
   ]
  },
  {
   "cell_type": "code",
   "execution_count": 9,
   "id": "916167e3",
   "metadata": {
    "execution": {
     "iopub.execute_input": "2023-12-20T03:35:04.289998Z",
     "iopub.status.busy": "2023-12-20T03:35:04.289650Z",
     "iopub.status.idle": "2023-12-20T03:35:04.293798Z",
     "shell.execute_reply": "2023-12-20T03:35:04.292681Z"
    },
    "papermill": {
     "duration": 0.013437,
     "end_time": "2023-12-20T03:35:04.295970",
     "exception": false,
     "start_time": "2023-12-20T03:35:04.282533",
     "status": "completed"
    },
    "tags": []
   },
   "outputs": [],
   "source": [
    "first_element = next(iter(lines_dic))"
   ]
  },
  {
   "cell_type": "code",
   "execution_count": 10,
   "id": "bf83d48e",
   "metadata": {
    "execution": {
     "iopub.execute_input": "2023-12-20T03:35:04.309849Z",
     "iopub.status.busy": "2023-12-20T03:35:04.308855Z",
     "iopub.status.idle": "2023-12-20T03:35:04.315837Z",
     "shell.execute_reply": "2023-12-20T03:35:04.314623Z"
    },
    "papermill": {
     "duration": 0.016084,
     "end_time": "2023-12-20T03:35:04.318109",
     "exception": false,
     "start_time": "2023-12-20T03:35:04.302025",
     "status": "completed"
    },
    "tags": []
   },
   "outputs": [
    {
     "name": "stdout",
     "output_type": "stream",
     "text": [
      "They do not!\n",
      "\n"
     ]
    }
   ],
   "source": [
    "print(lines_dic[first_element])"
   ]
  },
  {
   "cell_type": "code",
   "execution_count": 11,
   "id": "ea1e631f",
   "metadata": {
    "execution": {
     "iopub.execute_input": "2023-12-20T03:35:04.331381Z",
     "iopub.status.busy": "2023-12-20T03:35:04.330952Z",
     "iopub.status.idle": "2023-12-20T03:35:04.336284Z",
     "shell.execute_reply": "2023-12-20T03:35:04.335410Z"
    },
    "papermill": {
     "duration": 0.013876,
     "end_time": "2023-12-20T03:35:04.337958",
     "exception": false,
     "start_time": "2023-12-20T03:35:04.324082",
     "status": "completed"
    },
    "tags": []
   },
   "outputs": [],
   "source": [
    "def remove_punc(string):\n",
    "    punctuations = '''!()-[]{};:'\"\\,<>./?@#$%^&*_~'''\n",
    "    no_punct = \"\"\n",
    "    for char in string:\n",
    "        if char not in punctuations:\n",
    "            no_punct = no_punct + char  # space is also a character\n",
    "    return no_punct.lower()"
   ]
  },
  {
   "cell_type": "code",
   "execution_count": 12,
   "id": "a2d45586",
   "metadata": {
    "execution": {
     "iopub.execute_input": "2023-12-20T03:35:04.351531Z",
     "iopub.status.busy": "2023-12-20T03:35:04.350954Z",
     "iopub.status.idle": "2023-12-20T03:35:09.827289Z",
     "shell.execute_reply": "2023-12-20T03:35:09.826331Z"
    },
    "papermill": {
     "duration": 5.485719,
     "end_time": "2023-12-20T03:35:09.829693",
     "exception": false,
     "start_time": "2023-12-20T03:35:04.343974",
     "status": "completed"
    },
    "tags": []
   },
   "outputs": [],
   "source": [
    "pairs = []\n",
    "for con in conv:\n",
    "    ids = eval(con.split(\" +++$+++ \")[-1])\n",
    "    for i in range(len(ids)):\n",
    "        qa_pairs = []\n",
    "        \n",
    "        if i==len(ids)-1:\n",
    "            break\n",
    "        \n",
    "        first = remove_punc(lines_dic[ids[i]].strip())      \n",
    "        second = remove_punc(lines_dic[ids[i+1]].strip())\n",
    "        qa_pairs.append(first.split()[:max_len])\n",
    "        qa_pairs.append(second.split()[:max_len])\n",
    "        pairs.append(qa_pairs)"
   ]
  },
  {
   "cell_type": "code",
   "execution_count": 13,
   "id": "56f7ad1d",
   "metadata": {
    "execution": {
     "iopub.execute_input": "2023-12-20T03:35:09.842227Z",
     "iopub.status.busy": "2023-12-20T03:35:09.841909Z",
     "iopub.status.idle": "2023-12-20T03:35:09.846058Z",
     "shell.execute_reply": "2023-12-20T03:35:09.845304Z"
    },
    "papermill": {
     "duration": 0.013102,
     "end_time": "2023-12-20T03:35:09.848584",
     "exception": false,
     "start_time": "2023-12-20T03:35:09.835482",
     "status": "completed"
    },
    "tags": []
   },
   "outputs": [
    {
     "name": "stdout",
     "output_type": "stream",
     "text": [
      "[['can', 'we', 'make', 'this', 'quick', 'roxanne', 'korrine', 'and', 'andrew', 'barrett', 'are', 'having', 'an', 'incredibly', 'horrendous', 'public', 'break', 'up', 'on', 'the', 'quad', 'again'], ['well', 'i', 'thought', 'wed', 'start', 'with', 'pronunciation', 'if', 'thats', 'okay', 'with', 'you']]\n"
     ]
    }
   ],
   "source": [
    "print(pairs[0])"
   ]
  },
  {
   "cell_type": "code",
   "execution_count": 14,
   "id": "67a03edc",
   "metadata": {
    "execution": {
     "iopub.execute_input": "2023-12-20T03:35:09.862331Z",
     "iopub.status.busy": "2023-12-20T03:35:09.862005Z",
     "iopub.status.idle": "2023-12-20T03:35:10.742795Z",
     "shell.execute_reply": "2023-12-20T03:35:10.741329Z"
    },
    "papermill": {
     "duration": 0.890302,
     "end_time": "2023-12-20T03:35:10.745325",
     "exception": false,
     "start_time": "2023-12-20T03:35:09.855023",
     "status": "completed"
    },
    "tags": []
   },
   "outputs": [],
   "source": [
    "word_freq = Counter()\n",
    "for pair in pairs:\n",
    "    word_freq.update(pair[0])\n",
    "    word_freq.update(pair[1])"
   ]
  },
  {
   "cell_type": "code",
   "execution_count": 15,
   "id": "cbd0ea28",
   "metadata": {
    "execution": {
     "iopub.execute_input": "2023-12-20T03:35:10.759596Z",
     "iopub.status.busy": "2023-12-20T03:35:10.759214Z",
     "iopub.status.idle": "2023-12-20T03:35:10.788208Z",
     "shell.execute_reply": "2023-12-20T03:35:10.787285Z"
    },
    "papermill": {
     "duration": 0.038773,
     "end_time": "2023-12-20T03:35:10.790260",
     "exception": false,
     "start_time": "2023-12-20T03:35:10.751487",
     "status": "completed"
    },
    "tags": []
   },
   "outputs": [],
   "source": [
    "min_word_freq = 5\n",
    "words = [w for w in word_freq.keys() if word_freq[w] > min_word_freq]\n",
    "word_map = {k: v + 1 for v, k in enumerate(words)}\n",
    "word_map['<unk>'] = len(word_map) + 1\n",
    "word_map['<start>'] = len(word_map) + 1\n",
    "word_map['<end>'] = len(word_map) + 1\n",
    "word_map['<pad>'] = 0"
   ]
  },
  {
   "cell_type": "code",
   "execution_count": 16,
   "id": "91578e03",
   "metadata": {
    "execution": {
     "iopub.execute_input": "2023-12-20T03:35:10.803148Z",
     "iopub.status.busy": "2023-12-20T03:35:10.802826Z",
     "iopub.status.idle": "2023-12-20T03:35:10.808407Z",
     "shell.execute_reply": "2023-12-20T03:35:10.807004Z"
    },
    "papermill": {
     "duration": 0.01406,
     "end_time": "2023-12-20T03:35:10.810246",
     "exception": false,
     "start_time": "2023-12-20T03:35:10.796186",
     "status": "completed"
    },
    "tags": []
   },
   "outputs": [
    {
     "name": "stdout",
     "output_type": "stream",
     "text": [
      "Total words are: 18243\n"
     ]
    }
   ],
   "source": [
    "print(\"Total words are: {}\".format(len(word_map)))"
   ]
  },
  {
   "cell_type": "code",
   "execution_count": 17,
   "id": "5f51e712",
   "metadata": {
    "execution": {
     "iopub.execute_input": "2023-12-20T03:35:10.824891Z",
     "iopub.status.busy": "2023-12-20T03:35:10.823986Z",
     "iopub.status.idle": "2023-12-20T03:35:10.852973Z",
     "shell.execute_reply": "2023-12-20T03:35:10.851996Z"
    },
    "papermill": {
     "duration": 0.038469,
     "end_time": "2023-12-20T03:35:10.855356",
     "exception": false,
     "start_time": "2023-12-20T03:35:10.816887",
     "status": "completed"
    },
    "tags": []
   },
   "outputs": [],
   "source": [
    "with open('WORDMAP_corpus.json', 'w') as j:\n",
    "    json.dump(word_map, j)"
   ]
  },
  {
   "cell_type": "code",
   "execution_count": 18,
   "id": "893a22b3",
   "metadata": {
    "execution": {
     "iopub.execute_input": "2023-12-20T03:35:10.868813Z",
     "iopub.status.busy": "2023-12-20T03:35:10.868441Z",
     "iopub.status.idle": "2023-12-20T03:35:10.874402Z",
     "shell.execute_reply": "2023-12-20T03:35:10.873064Z"
    },
    "papermill": {
     "duration": 0.015677,
     "end_time": "2023-12-20T03:35:10.877091",
     "exception": false,
     "start_time": "2023-12-20T03:35:10.861414",
     "status": "completed"
    },
    "tags": []
   },
   "outputs": [],
   "source": [
    "def encode_question(words, word_map):\n",
    "    print(\"question==\",len(words))\n",
    "    enc_c = [word_map.get(word, word_map['<unk>']) for word in words] + [word_map['<pad>']] * (max_len - len(words))\n",
    "    print(\"encoded_question=\",len(enc_c))\n",
    "    return enc_c"
   ]
  },
  {
   "cell_type": "code",
   "execution_count": 19,
   "id": "c8147a96",
   "metadata": {
    "execution": {
     "iopub.execute_input": "2023-12-20T03:35:10.890367Z",
     "iopub.status.busy": "2023-12-20T03:35:10.889631Z",
     "iopub.status.idle": "2023-12-20T03:35:10.894025Z",
     "shell.execute_reply": "2023-12-20T03:35:10.893440Z"
    },
    "papermill": {
     "duration": 0.012956,
     "end_time": "2023-12-20T03:35:10.896212",
     "exception": false,
     "start_time": "2023-12-20T03:35:10.883256",
     "status": "completed"
    },
    "tags": []
   },
   "outputs": [],
   "source": [
    "def encode_reply(words, word_map):\n",
    "    print(\"reply==\",words)\n",
    "    enc_c = [word_map['<start>']] + [word_map.get(word, word_map['<unk>']) for word in words] + \\\n",
    "    [word_map['<end>']] + [word_map['<pad>']] * (max_len - len(words))\n",
    "    return enc_c"
   ]
  },
  {
   "cell_type": "code",
   "execution_count": 20,
   "id": "97fd022f",
   "metadata": {
    "execution": {
     "iopub.execute_input": "2023-12-20T03:35:10.909844Z",
     "iopub.status.busy": "2023-12-20T03:35:10.909438Z",
     "iopub.status.idle": "2023-12-20T03:35:10.913719Z",
     "shell.execute_reply": "2023-12-20T03:35:10.913095Z"
    },
    "papermill": {
     "duration": 0.013423,
     "end_time": "2023-12-20T03:35:10.915973",
     "exception": false,
     "start_time": "2023-12-20T03:35:10.902550",
     "status": "completed"
    },
    "tags": []
   },
   "outputs": [
    {
     "name": "stdout",
     "output_type": "stream",
     "text": [
      "question== 22\n",
      "encoded_question= 25\n",
      "reply== ['well', 'i', 'thought', 'wed', 'start', 'with', 'pronunciation', 'if', 'thats', 'okay', 'with', 'you']\n"
     ]
    }
   ],
   "source": [
    "pairs_encoded = []\n",
    "counter = 0\n",
    "for pair in pairs:\n",
    "    qus = encode_question(pair[0], word_map)\n",
    "    ans = encode_reply(pair[1], word_map)\n",
    "    pairs_encoded.append([qus, ans])\n",
    "    counter = counter + 1\n",
    "    if counter == 1:\n",
    "        break"
   ]
  },
  {
   "cell_type": "code",
   "execution_count": 21,
   "id": "2d25c817",
   "metadata": {
    "execution": {
     "iopub.execute_input": "2023-12-20T03:35:10.929108Z",
     "iopub.status.busy": "2023-12-20T03:35:10.928850Z",
     "iopub.status.idle": "2023-12-20T03:35:10.933241Z",
     "shell.execute_reply": "2023-12-20T03:35:10.932249Z"
    },
    "papermill": {
     "duration": 0.013385,
     "end_time": "2023-12-20T03:35:10.935364",
     "exception": false,
     "start_time": "2023-12-20T03:35:10.921979",
     "status": "completed"
    },
    "tags": []
   },
   "outputs": [
    {
     "name": "stdout",
     "output_type": "stream",
     "text": [
      "18240\n"
     ]
    }
   ],
   "source": [
    "print(word_map['<unk>'])"
   ]
  },
  {
   "cell_type": "code",
   "execution_count": 22,
   "id": "f12ac5fd",
   "metadata": {
    "execution": {
     "iopub.execute_input": "2023-12-20T03:35:10.947840Z",
     "iopub.status.busy": "2023-12-20T03:35:10.947550Z",
     "iopub.status.idle": "2023-12-20T03:35:10.955486Z",
     "shell.execute_reply": "2023-12-20T03:35:10.954128Z"
    },
    "papermill": {
     "duration": 0.017008,
     "end_time": "2023-12-20T03:35:10.957942",
     "exception": false,
     "start_time": "2023-12-20T03:35:10.940934",
     "status": "completed"
    },
    "tags": []
   },
   "outputs": [],
   "source": [
    "def create_masks(question, reply_input, reply_target):\n",
    "    \n",
    "    def subsequent_mask(size):\n",
    "        mask = torch.triu(torch.ones(size, size)).transpose(0, 1).type(dtype=torch.uint8)\n",
    "        return mask.unsqueeze(0)\n",
    "    \n",
    "    question_mask = question!=0\n",
    "    question_mask = question_mask.to(device)\n",
    "    question_mask = question_mask.unsqueeze(1).unsqueeze(1)         # (batch_size, 1, 1, max_words)\n",
    "     \n",
    "    reply_input_mask = reply_input!=0\n",
    "    reply_input_mask = reply_input_mask.unsqueeze(1)  # (batch_size, 1, max_words)\n",
    "    reply_input_mask = reply_input_mask & subsequent_mask(reply_input.size(-1)).type_as(reply_input_mask.data) \n",
    "    reply_input_mask = reply_input_mask.unsqueeze(1) # (batch_size, 1, max_words, max_words)\n",
    "    reply_target_mask = reply_target!=0              # (batch_size, max_words)\n",
    "    \n",
    "    return question_mask, reply_input_mask, reply_target_mask"
   ]
  }
 ],
 "metadata": {
  "kaggle": {
   "accelerator": "none",
   "dataSources": [],
   "dockerImageVersionId": 30626,
   "isGpuEnabled": false,
   "isInternetEnabled": true,
   "language": "python",
   "sourceType": "notebook"
  },
  "kernelspec": {
   "display_name": "Python 3",
   "language": "python",
   "name": "python3"
  },
  "language_info": {
   "codemirror_mode": {
    "name": "ipython",
    "version": 3
   },
   "file_extension": ".py",
   "mimetype": "text/x-python",
   "name": "python",
   "nbconvert_exporter": "python",
   "pygments_lexer": "ipython3",
   "version": "3.10.12"
  },
  "papermill": {
   "default_parameters": {},
   "duration": 15.999734,
   "end_time": "2023-12-20T03:35:12.188236",
   "environment_variables": {},
   "exception": null,
   "input_path": "__notebook__.ipynb",
   "output_path": "__notebook__.ipynb",
   "parameters": {},
   "start_time": "2023-12-20T03:34:56.188502",
   "version": "2.4.0"
  }
 },
 "nbformat": 4,
 "nbformat_minor": 5
}
